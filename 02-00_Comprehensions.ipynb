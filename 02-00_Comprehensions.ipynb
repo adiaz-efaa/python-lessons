{
 "cells": [
  {
   "cell_type": "markdown",
   "metadata": {},
   "source": [
    "# `List` y `Dict` Comprehensions"
   ]
  },
  {
   "cell_type": "markdown",
   "metadata": {},
   "source": [
    "Es difícil explicar en abstracto que son las `List` y `Dict` *comprehensions*. Por ahora sólo vamos a decir que son una manera muy potente y rápida de generar `List` y `Dict` a partir de otros `List` y `Dict`. Veamos un par de ejemplos."
   ]
  },
  {
   "cell_type": "markdown",
   "metadata": {},
   "source": [
    "## `List` *Comprehensions*"
   ]
  },
  {
   "cell_type": "markdown",
   "metadata": {},
   "source": [
    "Construir una `List` a partir de otra `List` u otra estrucutura de datos."
   ]
  },
  {
   "cell_type": "markdown",
   "metadata": {},
   "source": [
    "### Ejemplo: Transformar los Elementos de una `List`"
   ]
  },
  {
   "cell_type": "markdown",
   "metadata": {},
   "source": [
    "Supongamos que tenemos una lista de RUTs. Como es típico, los RUTs vienen con formatos inconsistentes, supongamos que pueden venir con o sin separador de miles y con o sin guión antes del dígito verificador. Por ejemplo:\n",
    "\n",
    "- 12.345.678-9\n",
    "- 21543879-9\n",
    "- 214537689\n",
    "\n",
    "Obviamente, antes de utilizar esta lista, queremos homologar los formatos. Para homologar un RUT al formato sin separador de miles y con guión, escribimos la siguiente función:"
   ]
  },
  {
   "cell_type": "code",
   "execution_count": 1,
   "metadata": {},
   "outputs": [],
   "source": [
    "def estandariza_rut(rut):\n",
    "    # Antes de comenzar la transformación nos aseguramos que el parámetro rut sea un str\n",
    "    temp = str(rut).replace(\".\", \"\").replace(\"-\", \"\")\n",
    "    return f'{temp[:-1]}-{temp[-1]}'"
   ]
  },
  {
   "cell_type": "markdown",
   "metadata": {},
   "source": [
    "Probemos la función:"
   ]
  },
  {
   "cell_type": "code",
   "execution_count": 2,
   "metadata": {},
   "outputs": [
    {
     "name": "stdout",
     "output_type": "stream",
     "text": [
      "12345678-9\n",
      "21543879-9\n",
      "21453768-9\n"
     ]
    }
   ],
   "source": [
    "ruts = ['12.345.678-9', '21543879-9', 214537689]\n",
    "for rut in ruts:\n",
    "    print(estandariza_rut(rut))"
   ]
  },
  {
   "cell_type": "markdown",
   "metadata": {},
   "source": [
    "Aplicamos ahora un `List` comprehension para transformar la `List` `ruts` en una `List` con RUTs estandarizados."
   ]
  },
  {
   "cell_type": "code",
   "execution_count": 3,
   "metadata": {},
   "outputs": [
    {
     "data": {
      "text/plain": [
       "['12345678-9', '21543879-9', '21453768-9']"
      ]
     },
     "execution_count": 3,
     "metadata": {},
     "output_type": "execute_result"
    }
   ],
   "source": [
    "ruts_ok = [estandariza_rut(rut) for rut in ruts]\n",
    "ruts_ok"
   ]
  },
  {
   "cell_type": "markdown",
   "metadata": {},
   "source": [
    "La mejor manera de pensar y entender esta sintaxis es recordando la notación matemática (del colegio nada complicado) para denotar o definir un conjunto. En este caso el conjunto $Y$ formado por todos los valores transformados por la función $f$ de los elementos del conjunto $X$.\n",
    "\n",
    "$$Y=\\{ f(x):x\\in X \\}$$"
   ]
  },
  {
   "cell_type": "markdown",
   "metadata": {},
   "source": [
    "#### Ejercicio"
   ]
  },
  {
   "cell_type": "markdown",
   "metadata": {
    "solution2": "hidden",
    "solution2_first": true
   },
   "source": [
    "Considerar esta `List` de nombres: `nombres = ['maría', 'Rosa', 'josé', 'horacio', 'Anacleta']`.\n",
    "\n",
    "Transformar `nombres` en: `['María', 'Rosa', 'José', 'Horacio', 'Anacleta']`.\n",
    "\n",
    "**Tip:** ir a Google y buscar *capitalize string in python*."
   ]
  },
  {
   "cell_type": "markdown",
   "metadata": {
    "solution2": "hidden"
   },
   "source": [
    "Solución:"
   ]
  },
  {
   "cell_type": "code",
   "execution_count": 4,
   "metadata": {
    "solution2": "hidden"
   },
   "outputs": [],
   "source": [
    "# Todavía no"
   ]
  },
  {
   "cell_type": "markdown",
   "metadata": {},
   "source": [
    "### Ejemplo: Filtrar los Elementos de una `List`"
   ]
  },
  {
   "cell_type": "markdown",
   "metadata": {},
   "source": [
    "Tenemos ahora una `List` de `Tuple` donde cada `Tuple` tiene el nombre de un producto comestible y un `bool`que indica si el producto tiene o no sellos (si es `True` entonces tiene sellos)."
   ]
  },
  {
   "cell_type": "code",
   "execution_count": 5,
   "metadata": {},
   "outputs": [],
   "source": [
    "productos = [('Super8', True), ('Apio', False), ('Zucaritas', True), ('Té verde', False)]"
   ]
  },
  {
   "cell_type": "markdown",
   "metadata": {},
   "source": [
    "Vamos a filtrar los productos sin sellos y almacenarlos en una nueva `List`."
   ]
  },
  {
   "cell_type": "code",
   "execution_count": 6,
   "metadata": {},
   "outputs": [
    {
     "data": {
      "text/plain": [
       "[('Super8', True), ('Zucaritas', True)]"
      ]
     },
     "execution_count": 6,
     "metadata": {},
     "output_type": "execute_result"
    }
   ],
   "source": [
    "productos_ok = [p for p in productos if p[1]] # if p[1] es lo mismo que escribir if p[1] == True, pero es más\n",
    "                                              # elegante y conciso.\n",
    "productos_ok"
   ]
  },
  {
   "cell_type": "markdown",
   "metadata": {},
   "source": [
    "También usando la notación matemática para conjuntos, esta sintaxis se puede pensar como:\n",
    "\n",
    "$$Y=\\{x_1: (x_0, x_1) \\in X \\land x_1 = True \\}$$\n",
    "\n",
    "Aquí, $\\land$ es el símbolo matemático para la condición lógica `and`."
   ]
  },
  {
   "cell_type": "markdown",
   "metadata": {},
   "source": [
    "#### Ejercicio"
   ]
  },
  {
   "cell_type": "markdown",
   "metadata": {},
   "source": [
    "Considerando la siguiente `List` `rand_nums` de números enteros generados aleatoriamente usando una `List` comprehension:\n",
    "\n",
    "- filtrar todos los elementos superiores a 50\n",
    "- generar la `List` con las raíces cuadradas de los elementos de `rand_nums`."
   ]
  },
  {
   "cell_type": "code",
   "execution_count": 7,
   "metadata": {
    "solution2": "hidden",
    "solution2_first": true
   },
   "outputs": [],
   "source": [
    "import random as rnd\n",
    "import math # En esta librería está la función sqrt para calcular raíces cuadradas\n",
    "rand_nums = [rnd.randint(1, 100) for i in range(100)]"
   ]
  },
  {
   "cell_type": "markdown",
   "metadata": {
    "solution2": "hidden"
   },
   "source": [
    "Solución:"
   ]
  },
  {
   "cell_type": "code",
   "execution_count": 8,
   "metadata": {
    "solution2": "hidden"
   },
   "outputs": [],
   "source": [
    "# No todavía"
   ]
  },
  {
   "cell_type": "markdown",
   "metadata": {},
   "source": [
    "## `Dict` *Comprehensions*"
   ]
  },
  {
   "cell_type": "markdown",
   "metadata": {},
   "source": [
    "Construir un `Dict` a partir de otro `Dict`, una `List` u otra estrucutura de datos."
   ]
  },
  {
   "cell_type": "markdown",
   "metadata": {},
   "source": [
    "### Reorganizar una `List`"
   ]
  },
  {
   "cell_type": "markdown",
   "metadata": {},
   "source": [
    "Consideremos la siguiente `List` de `Tuples`. Cada `Tuple` contiene el nombre, edad (años), peso (kilos) y estatura (cm.) de un paciente. Data con esta estructura es la que usualmente se obtiene de la consulta a una base de datos. Sin embargo, si queremos rápidamente acceder a las cifras de un paciente en particular, tener así almacenda la data, no es lo más conveniente. Si vamos a buscar por nombre, lo más conveniente es usar un `Dict` cuyos `keys` sea el nombre del paciente y cuyos `values` sea la data del paciente."
   ]
  },
  {
   "cell_type": "code",
   "execution_count": 9,
   "metadata": {},
   "outputs": [],
   "source": [
    "data = [\n",
    "    ('Pedro', 25, 70, 170),\n",
    "    ('Juan', 43, 67, 165),\n",
    "    ('Diego', 18, 90, 180),\n",
    "    ('María', 50, 55, 160),\n",
    "]"
   ]
  },
  {
   "cell_type": "code",
   "execution_count": 10,
   "metadata": {},
   "outputs": [
    {
     "data": {
      "text/plain": [
       "{'Pedro': (25, 70, 170),\n",
       " 'Juan': (43, 67, 165),\n",
       " 'Diego': (18, 90, 180),\n",
       " 'María': (50, 55, 160)}"
      ]
     },
     "execution_count": 10,
     "metadata": {},
     "output_type": "execute_result"
    }
   ],
   "source": [
    "data_dict = {d[0]: d[1:] for d in data}\n",
    "data_dict"
   ]
  },
  {
   "cell_type": "markdown",
   "metadata": {},
   "source": [
    "Ahora, si queremos acceder a los datos de María sólo tenemos que:"
   ]
  },
  {
   "cell_type": "code",
   "execution_count": 11,
   "metadata": {},
   "outputs": [
    {
     "data": {
      "text/plain": [
       "(50, 55, 160)"
      ]
     },
     "execution_count": 11,
     "metadata": {},
     "output_type": "execute_result"
    }
   ],
   "source": [
    "data_dict['María']"
   ]
  },
  {
   "cell_type": "markdown",
   "metadata": {},
   "source": [
    "### Asignar Nombres a los Datos Numéricos"
   ]
  },
  {
   "cell_type": "markdown",
   "metadata": {},
   "source": [
    "La estructura anterior es sin duda una mejora. Sin embargo, podríamos confundirnos entre la edad y el peso de un paciente. Por ejemplo, María tiene **50** años y pesa **55** kilos. Para que no puede existir esa confusión, también la data se almacenará en un `Dict`."
   ]
  },
  {
   "cell_type": "code",
   "execution_count": 12,
   "metadata": {},
   "outputs": [],
   "source": [
    "data_dict_2 = {d[0]: {'edad': d[1], 'peso': d[2], 'estatura': d[3]} for d in data}"
   ]
  },
  {
   "cell_type": "markdown",
   "metadata": {},
   "source": [
    "Ahora, si queremos la edad de María hacemos:"
   ]
  },
  {
   "cell_type": "code",
   "execution_count": 13,
   "metadata": {},
   "outputs": [
    {
     "data": {
      "text/plain": [
       "50"
      ]
     },
     "execution_count": 13,
     "metadata": {},
     "output_type": "execute_result"
    }
   ],
   "source": [
    "data_dict_2['María']['edad']"
   ]
  }
 ],
 "metadata": {
  "kernelspec": {
   "display_name": "Python 3",
   "language": "python",
   "name": "python3"
  },
  "language_info": {
   "codemirror_mode": {
    "name": "ipython",
    "version": 3
   },
   "file_extension": ".py",
   "mimetype": "text/x-python",
   "name": "python",
   "nbconvert_exporter": "python",
   "pygments_lexer": "ipython3",
   "version": "3.7.3"
  },
  "toc": {
   "base_numbering": 1,
   "nav_menu": {},
   "number_sections": true,
   "sideBar": true,
   "skip_h1_title": false,
   "title_cell": "Table of Contents",
   "title_sidebar": "Contents",
   "toc_cell": false,
   "toc_position": {},
   "toc_section_display": true,
   "toc_window_display": true
  }
 },
 "nbformat": 4,
 "nbformat_minor": 4
}
