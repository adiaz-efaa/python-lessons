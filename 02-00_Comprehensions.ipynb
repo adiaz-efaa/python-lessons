{
 "cells": [
  {
   "cell_type": "markdown",
   "metadata": {},
   "source": [
    "# `List` y `Dict` Comprehensions"
   ]
  },
  {
   "cell_type": "markdown",
   "metadata": {},
   "source": [
    "⚠️ **Notebook** en desarrollo."
   ]
  },
  {
   "cell_type": "markdown",
   "metadata": {},
   "source": [
    "Es difícil explicar en abstracto que son las `List` y `Dict` *comprehensions*. Por ahora sólo vamos a decior que son una manera muy potente y rápida de generar `List` y `Dict` a partir de otros `List` y `Dict`. Veamos un par de ejemplos."
   ]
  },
  {
   "cell_type": "markdown",
   "metadata": {},
   "source": [
    "## Ejemplo: Transformar los Elementos de una `List`"
   ]
  },
  {
   "cell_type": "markdown",
   "metadata": {},
   "source": [
    "Supongamos que tenemos una lista de RUTs. Como es típico, los RUTs vienen con formatos inconsistentes, supongamos que pueden venir con o sin separador de miles y con o sin guión antes del dígito verificador. Por ejemplo:\n",
    "\n",
    "- 12.345.678-9\n",
    "- 21543879-9\n",
    "- 214537689\n",
    "\n",
    "Obviamente, antes de utilizar esta lista, queremos homologar los formatos. Para homologar un RUT al formato sin separador de miles y con guión, escribimos la siguiente función:"
   ]
  },
  {
   "cell_type": "code",
   "execution_count": 7,
   "metadata": {},
   "outputs": [],
   "source": [
    "def estandariza_rut(rut):\n",
    "    # Antes de comenzar la transformación nos aseguramos que el parámetro rut sea un str\n",
    "    temp = str(rut).replace(\".\", \"\").replace(\"-\", \"\")\n",
    "    return f'{temp[:-1]}-{temp[-1]}'"
   ]
  },
  {
   "cell_type": "markdown",
   "metadata": {},
   "source": [
    "Probemos la función:"
   ]
  },
  {
   "cell_type": "code",
   "execution_count": 8,
   "metadata": {},
   "outputs": [
    {
     "name": "stdout",
     "output_type": "stream",
     "text": [
      "12345678-9\n",
      "21543879-9\n",
      "21453768-9\n"
     ]
    }
   ],
   "source": [
    "ruts = ['12.345.678-9', '21543879-9', 214537689]\n",
    "for rut in ruts:\n",
    "    print(estandariza_rut(rut))"
   ]
  },
  {
   "cell_type": "markdown",
   "metadata": {},
   "source": [
    "Aplicamos ahora un `List` comprehension para transformar la `List` `ruts` en una `List` con RUTs estandarizados."
   ]
  },
  {
   "cell_type": "code",
   "execution_count": 9,
   "metadata": {},
   "outputs": [
    {
     "data": {
      "text/plain": [
       "['12345678-9', '21543879-9', '21453768-9']"
      ]
     },
     "execution_count": 9,
     "metadata": {},
     "output_type": "execute_result"
    }
   ],
   "source": [
    "ruts_ok = [estandariza_rut(rut) for rut in ruts]\n",
    "ruts_ok"
   ]
  },
  {
   "cell_type": "markdown",
   "metadata": {},
   "source": [
    "La mejor manera de pensar y entender esta sintaxis es recordando la notación matemática (del colegio nada complicado) para denotar o definir un conjunto.\n",
    "\n",
    "$$Y=\\{ f(x):x\\in X \\}$$"
   ]
  },
  {
   "cell_type": "markdown",
   "metadata": {},
   "source": [
    "### Ejercicio"
   ]
  },
  {
   "cell_type": "markdown",
   "metadata": {
    "solution2": "hidden",
    "solution2_first": true
   },
   "source": [
    "Considerar esta `List` de nombres: `nombres = ['maría', 'Rosa', 'josé', 'horacio', 'Anacleta']`.\n",
    "\n",
    "Transformar `nombres` en: `['María', 'Rosa', 'José', 'Horacio', 'Anacleta']`.\n",
    "\n",
    "**Tip:** ir a Google y buscar *capitalize string in python*."
   ]
  },
  {
   "cell_type": "markdown",
   "metadata": {
    "solution2": "hidden"
   },
   "source": [
    "Solución:"
   ]
  },
  {
   "cell_type": "code",
   "execution_count": 13,
   "metadata": {
    "solution2": "hidden"
   },
   "outputs": [],
   "source": [
    "# Todavía no"
   ]
  },
  {
   "cell_type": "markdown",
   "metadata": {},
   "source": [
    "## Ejemplo: Filtrar los Elementos de una `List`"
   ]
  },
  {
   "cell_type": "markdown",
   "metadata": {},
   "source": [
    "Tenemos ahora una `List` de `Tuple` donde cada `Tuple` tiene el nombre de un producto comestible y un `bool`que indica si el producto tiene o no sellos (`True` -> tiene sellos)."
   ]
  },
  {
   "cell_type": "code",
   "execution_count": 14,
   "metadata": {},
   "outputs": [],
   "source": [
    "productos = [('Supero8', True), ('Apio', False), ('Zucaritas', True), ('Té verde', False)]"
   ]
  },
  {
   "cell_type": "markdown",
   "metadata": {},
   "source": [
    "Vamos a filtrar los productos sin sellos y almacenarlos en una nueva `List`."
   ]
  },
  {
   "cell_type": "code",
   "execution_count": 16,
   "metadata": {},
   "outputs": [
    {
     "data": {
      "text/plain": [
       "[('Supero8', True), ('Zucaritas', True)]"
      ]
     },
     "execution_count": 16,
     "metadata": {},
     "output_type": "execute_result"
    }
   ],
   "source": [
    "productos_ok = [p for p in productos if p[1]] # if p[1] es lo mismo que escribir if p[1] == True, pero es más\n",
    "                                              # elegante y conciso.\n",
    "productos_ok"
   ]
  },
  {
   "cell_type": "markdown",
   "metadata": {},
   "source": [
    "También usando la notación matemática para conjuntos, esta sintaxis se puede pensar como:\n",
    "\n",
    "$$Y=\\{x_1: (x_0, x_1) \\in X \\land x_1 = True \\}$$"
   ]
  }
 ],
 "metadata": {
  "kernelspec": {
   "display_name": "Python 3",
   "language": "python",
   "name": "python3"
  },
  "language_info": {
   "codemirror_mode": {
    "name": "ipython",
    "version": 3
   },
   "file_extension": ".py",
   "mimetype": "text/x-python",
   "name": "python",
   "nbconvert_exporter": "python",
   "pygments_lexer": "ipython3",
   "version": "3.7.3"
  },
  "toc": {
   "base_numbering": 1,
   "nav_menu": {},
   "number_sections": true,
   "sideBar": true,
   "skip_h1_title": false,
   "title_cell": "Table of Contents",
   "title_sidebar": "Contents",
   "toc_cell": false,
   "toc_position": {},
   "toc_section_display": true,
   "toc_window_display": false
  }
 },
 "nbformat": 4,
 "nbformat_minor": 4
}
