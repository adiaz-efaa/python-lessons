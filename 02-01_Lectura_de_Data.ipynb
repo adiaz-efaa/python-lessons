{
 "cells": [
  {
   "cell_type": "markdown",
   "metadata": {},
   "source": [
    "# Lectura de Data"
   ]
  },
  {
   "cell_type": "markdown",
   "metadata": {},
   "source": [
    "⚠️ **Notebook** en desarrollo."
   ]
  },
  {
   "cell_type": "markdown",
   "metadata": {},
   "source": [
    "Hasta ahora, los datos que hemos utilizado han sido ingresados a mano. En una situación real esto no es lo más habitual y menos aún lo más deseable. Generalmente, los datos que se necesitan están disponibles en un archivo de texto, una planilla Excel, una base de datos o a través de un servicio de datos.\n",
    "\n",
    "Vamos a ver como leer data almacenada en un archivo de texto."
   ]
  },
  {
   "cell_type": "markdown",
   "metadata": {},
   "source": [
    "## Leer un Archivo de Texto"
   ]
  },
  {
   "cell_type": "markdown",
   "metadata": {},
   "source": [
    "Supongamos que las notas de todas las materias y de todo el año están almacenadas en el archivo **notas.csv**. Ustedes mismos pueden abrir el archivo y ver su estructura."
   ]
  },
  {
   "cell_type": "markdown",
   "metadata": {},
   "source": [
    "materia;1_trimestre;2_trimestre;3_trimestre;promedio\n",
    "\n",
    "Matematica;5;4;5;4.7\n",
    "\n",
    "Castellano;3;2;5;3.3\n",
    "\n",
    "Fisica;3;7;6;5.3\n",
    "\n",
    "Quimica;3;7;5;5\n",
    "\n",
    "Biologia;6;7;7;6.7\n",
    "\n",
    "Filosofia;6;2;3;3.7"
   ]
  },
  {
   "cell_type": "markdown",
   "metadata": {},
   "source": [
    "El archivo se ve más o menos como en la celda anterior, pero sin las líneas vacías entre cada línea con datos.\n",
    "\n",
    "Se observa que la primera línea del archivo tiene unos títulos o encabezados, precisamente:\n",
    "\n",
    "- materia\n",
    "- 1_trimestre\n",
    "- 2_trimestre\n",
    "- 3_trimestre\n",
    "- promedio\n",
    "\n",
    "El significado de cada nombre es claro. Se observa también que entre título y título ha un ; . Este caracter sirve de separador, permite a quien lee el archivo saber cuando termina un título y empieza otro.\n",
    "\n",
    "En las filas siguientes vemos la data propiamente tal. El nombre de la materia, las notas correspondientes a los 3 trimestres y finalmente la nota promedio."
   ]
  },
  {
   "cell_type": "markdown",
   "metadata": {},
   "source": [
    "### Leer Todo el Archivo de una Vez"
   ]
  },
  {
   "cell_type": "markdown",
   "metadata": {},
   "source": [
    "Vamos a leer el archivo y luego revisamos el código."
   ]
  },
  {
   "cell_type": "code",
   "execution_count": 8,
   "metadata": {},
   "outputs": [
    {
     "name": "stdout",
     "output_type": "stream",
     "text": [
      "materia;1_trimestre;2_trimestre;3_trimestre;promedio\n",
      "Matematica;5;4;5;4.7\n",
      "Castellano;3;2;5;3.3\n",
      "Fisica;3;7;6;5.3\n",
      "Quimica;3;7;5;5\n",
      "Biologia;6;7;7;6.7\n",
      "Filosofia;6;2;3;3.7\n"
     ]
    }
   ],
   "source": [
    "with open('notas.csv', 'r') as archivo:\n",
    "    notas = archivo.read()\n",
    "print(notas)"
   ]
  },
  {
   "cell_type": "markdown",
   "metadata": {},
   "source": [
    "- `open('notas.csv', 'r')`: abre el archivo **notas.csv** en modo sólo lectura `r`. Esto último porque sólo queremos leer data y no escribir nada en el archivo.\n",
    "- `with open(...) as archivo`: rodear la instrucción `open` con `with .... as <nombre archivo>` nos asegura que una vez que terminemos de usar el archivo este se cerrará automáticamente. Esto evita todos los problemas de tipo *\"Archivo está siendo utilizado por otro usuario\"*."
   ]
  },
  {
   "cell_type": "markdown",
   "metadata": {},
   "source": [
    "Si no se usa `with ... as` hay que proceder de la siguiente forma:"
   ]
  },
  {
   "cell_type": "code",
   "execution_count": 9,
   "metadata": {},
   "outputs": [
    {
     "name": "stdout",
     "output_type": "stream",
     "text": [
      "materia;1_trimestre;2_trimestre;3_trimestre;promedio\n",
      "Matematica;5;4;5;4.7\n",
      "Castellano;3;2;5;3.3\n",
      "Fisica;3;7;6;5.3\n",
      "Quimica;3;7;5;5\n",
      "Biologia;6;7;7;6.7\n",
      "Filosofia;6;2;3;3.7\n"
     ]
    }
   ],
   "source": [
    "f = open('notas.csv', 'r')\n",
    "notas = f.read()\n",
    "f.close()\n",
    "print(notas)"
   ]
  },
  {
   "cell_type": "markdown",
   "metadata": {},
   "source": [
    "O sea, hay que agregar la instrucción `close`. Esto último es fácil de olvidar, por eso la forma recomendada es utilizando `with ... as`."
   ]
  },
  {
   "cell_type": "markdown",
   "metadata": {},
   "source": [
    "### Leer Línea a Línea"
   ]
  },
  {
   "cell_type": "markdown",
   "metadata": {},
   "source": [
    "Como antes, veamos la instrucción y luego la explicamos:"
   ]
  },
  {
   "cell_type": "code",
   "execution_count": 10,
   "metadata": {},
   "outputs": [
    {
     "name": "stdout",
     "output_type": "stream",
     "text": [
      "['materia;1_trimestre;2_trimestre;3_trimestre;promedio\\n', 'Matematica;5;4;5;4.7\\n', 'Castellano;3;2;5;3.3\\n', 'Fisica;3;7;6;5.3\\n', 'Quimica;3;7;5;5\\n', 'Biologia;6;7;7;6.7\\n', 'Filosofia;6;2;3;3.7']\n"
     ]
    }
   ],
   "source": [
    "with open('notas.csv', 'r') as archivo:\n",
    "    notas = archivo.readlines()\n",
    "print(notas)"
   ]
  },
  {
   "cell_type": "markdown",
   "metadata": {},
   "source": [
    "- `readlines()` lee cada una de las líneas del archivo y las almacena en una `List[str]` donde cada elemento de la `List` es una de las líneas del archivo.\n",
    "- notar que todas las líneas menos la última terminan con `\\n`. Estos dos caracteres indican un **Enter** o salto de línea."
   ]
  },
  {
   "cell_type": "markdown",
   "metadata": {},
   "source": [
    "### Limpiar el Salto de Línea"
   ]
  },
  {
   "cell_type": "markdown",
   "metadata": {},
   "source": [
    "Vamos a remover el salto de línea."
   ]
  },
  {
   "cell_type": "code",
   "execution_count": 11,
   "metadata": {},
   "outputs": [
    {
     "name": "stdout",
     "output_type": "stream",
     "text": [
      "['materia;1_trimestre;2_trimestre;3_trimestre;promedio', 'Matematica;5;4;5;4.7', 'Castellano;3;2;5;3.3', 'Fisica;3;7;6;5.3', 'Quimica;3;7;5;5', 'Biologia;6;7;7;6.7', 'Filosofia;6;2;3;3.7']\n"
     ]
    }
   ],
   "source": [
    "with open('notas.csv', 'r') as archivo:\n",
    "    notas = archivo.readlines()\n",
    "notas_2 = []\n",
    "for nota in notas:\n",
    "    notas_2.append(nota.rstrip())\n",
    "print(notas_2)"
   ]
  },
  {
   "cell_type": "markdown",
   "metadata": {},
   "source": [
    "- se define una nueva `List`, `notas_2` que almacenará las líneas *limpias*.\n",
    "- se aplica el método `rstrip` a cada una de las líneas del archivo. Este método tiene el efecto deseado. Las líneas *limpias* se almacenan en la nueva `List`, `notas_2`."
   ]
  },
  {
   "cell_type": "markdown",
   "metadata": {},
   "source": [
    "### Almacenar las Notas en una Estructura Adecuada"
   ]
  },
  {
   "cell_type": "markdown",
   "metadata": {},
   "source": [
    "Si bien ahora tenemos las notas en un `List`, el formato no es muy cómodo. Se mezclan las notas con el nombre de la materia, las notas de cada trimestre hay que buscarlas por posición y están, además, todos los ; .\n",
    "\n",
    "Vamos a ver como traspasar la data a un `Dict`. Este `Dict` será de este tipo `Dict[str, float]]`. O sea un `Dict`cuyas `keys` son las materias (dato de tipo `str`) y cuyos `values` son una `List` con las notas por trimestre y promedio de esa materia."
   ]
  },
  {
   "cell_type": "markdown",
   "metadata": {},
   "source": [
    "Primero, nos quedamos sólo con las notas:"
   ]
  },
  {
   "cell_type": "code",
   "execution_count": 37,
   "metadata": {},
   "outputs": [
    {
     "data": {
      "text/plain": [
       "[['Matematica', '5', '4', '5', '4.7'],\n",
       " ['Castellano', '3', '2', '5', '3.3'],\n",
       " ['Fisica', '3', '7', '6', '5.3'],\n",
       " ['Quimica', '3', '7', '5', '5'],\n",
       " ['Biologia', '6', '7', '7', '6.7'],\n",
       " ['Filosofia', '6', '2', '3', '3.7']]"
      ]
     },
     "execution_count": 37,
     "metadata": {},
     "output_type": "execute_result"
    }
   ],
   "source": [
    "aux_1 = [l.split(';') for l in notas_2[1:]]\n",
    "aux_1"
   ]
  },
  {
   "cell_type": "markdown",
   "metadata": {},
   "source": [
    "Luego, convertimos las notas (que se han cargado como `str` a números). **Esta parte es difícil, estudiarla porque es muy provechosa. Tip: entender primero qué hace `[l[1:] for l in aux_1][i]]` para `i=0,1,2` y luego deducir el resto.**"
   ]
  },
  {
   "cell_type": "code",
   "execution_count": 38,
   "metadata": {},
   "outputs": [
    {
     "data": {
      "text/plain": [
       "[[5.0, 4.0, 5.0, 4.7],\n",
       " [3.0, 2.0, 5.0, 3.3],\n",
       " [3.0, 7.0, 6.0, 5.3],\n",
       " [3.0, 7.0, 5.0, 5.0],\n",
       " [6.0, 7.0, 7.0, 6.7],\n",
       " [6.0, 2.0, 3.0, 3.7]]"
      ]
     },
     "execution_count": 38,
     "metadata": {},
     "output_type": "execute_result"
    }
   ],
   "source": [
    "aux_2 = [[float(n) for n in [l[1:] for l in aux_1][i]] for i in range(0, len(aux_1))]\n",
    "aux_2"
   ]
  },
  {
   "cell_type": "markdown",
   "metadata": {},
   "source": [
    "Finalmente, construimos el `Dict` requerido."
   ]
  },
  {
   "cell_type": "code",
   "execution_count": 39,
   "metadata": {},
   "outputs": [
    {
     "data": {
      "text/plain": [
       "{'Matematica': [6.0, 2.0, 3.0, 3.7],\n",
       " 'Castellano': [6.0, 2.0, 3.0, 3.7],\n",
       " 'Fisica': [6.0, 2.0, 3.0, 3.7],\n",
       " 'Quimica': [6.0, 2.0, 3.0, 3.7],\n",
       " 'Biologia': [6.0, 2.0, 3.0, 3.7],\n",
       " 'Filosofia': [6.0, 2.0, 3.0, 3.7]}"
      ]
     },
     "execution_count": 39,
     "metadata": {},
     "output_type": "execute_result"
    }
   ],
   "source": [
    "notas_3 = {m[0]: n for m in aux_1 for n in aux_2}\n",
    "notas_3"
   ]
  }
 ],
 "metadata": {
  "kernelspec": {
   "display_name": "Python 3",
   "language": "python",
   "name": "python3"
  },
  "language_info": {
   "codemirror_mode": {
    "name": "ipython",
    "version": 3
   },
   "file_extension": ".py",
   "mimetype": "text/x-python",
   "name": "python",
   "nbconvert_exporter": "python",
   "pygments_lexer": "ipython3",
   "version": "3.7.3"
  },
  "toc": {
   "base_numbering": 1,
   "nav_menu": {},
   "number_sections": true,
   "sideBar": true,
   "skip_h1_title": false,
   "title_cell": "Table of Contents",
   "title_sidebar": "Contenidos",
   "toc_cell": false,
   "toc_position": {
    "height": "calc(100% - 180px)",
    "left": "10px",
    "top": "150px",
    "width": "221px"
   },
   "toc_section_display": true,
   "toc_window_display": true
  }
 },
 "nbformat": 4,
 "nbformat_minor": 4
}
